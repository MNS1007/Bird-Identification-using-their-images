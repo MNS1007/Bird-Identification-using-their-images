{
  "nbformat": 4,
  "nbformat_minor": 0,
  "metadata": {
    "colab": {
      "provenance": []
    },
    "kernelspec": {
      "name": "python3",
      "display_name": "Python 3"
    },
    "language_info": {
      "name": "python"
    }
  },
  "cells": [
    {
      "cell_type": "code",
      "execution_count": null,
      "metadata": {
        "id": "zeVB_SCqV4B-"
      },
      "outputs": [],
      "source": [
        "import pandas as pd \n",
        "import numpy as np \n",
        "import matplotlib.pyplot as plt\n",
        "import os"
      ]
    },
    {
      "cell_type": "code",
      "source": [
        "import tensorflow as tf\n",
        "print(\"Tensorflow version \" + tf.__version__)\n",
        "AUTO = tf.data.experimental.AUTOTUNE"
      ],
      "metadata": {
        "id": "PgrZ6D5cV8wK"
      },
      "execution_count": null,
      "outputs": []
    },
    {
      "cell_type": "code",
      "source": [
        "from google.colab import drive\n",
        "drive.mount(\"/content/drive/\")"
      ],
      "metadata": {
        "id": "uWg8tvshFWKS"
      },
      "execution_count": null,
      "outputs": []
    },
    {
      "cell_type": "code",
      "source": [
        "%cd \"/content/drive/My Drive\""
      ],
      "metadata": {
        "id": "JEJJ2wGDFYyH"
      },
      "execution_count": null,
      "outputs": []
    },
    {
      "cell_type": "code",
      "source": [
        "!ls"
      ],
      "metadata": {
        "id": "SsLQyVhNFbS3"
      },
      "execution_count": null,
      "outputs": []
    },
    {
      "cell_type": "code",
      "source": [
        "%cd \"/content/drive/My Drive/450\""
      ],
      "metadata": {
        "id": "k_CQ8VgfFdeY"
      },
      "execution_count": null,
      "outputs": []
    },
    {
      "cell_type": "code",
      "source": [
        "strategy = tf.distribute.MirroredStrategy(cross_device_ops=tf.distribute.HierarchicalCopyAllReduce())\n",
        "print ('Number of devices: {}'.format(strategy.num_replicas_in_sync))"
      ],
      "metadata": {
        "id": "FAU7Rt93FgBD"
      },
      "execution_count": null,
      "outputs": []
    },
    {
      "cell_type": "code",
      "source": [
        "from tensorflow.keras.layers import Layer\n",
        "import matplotlib.pyplot as plt\n",
        "from tensorflow.keras.layers.experimental.preprocessing import Rescaling"
      ],
      "metadata": {
        "id": "dzQlul5JFioR"
      },
      "execution_count": null,
      "outputs": []
    },
    {
      "cell_type": "code",
      "source": [
        "train_ds=tf.keras.preprocessing.image_dataset_from_directory(\n",
        "    directory=r\"/content/drive/My Drive/450/archive/train\",\n",
        "    image_size=(224,244),\n",
        "    labels=\"inferred\",\n",
        "    label_mode=\"categorical\",\n",
        "    color_mode=\"rgb\",\n",
        "    batch_size=8,\n",
        "    shuffle=True,\n",
        "    seed=None\n",
        ")"
      ],
      "metadata": {
        "id": "Zz8_qT0BFmN9"
      },
      "execution_count": null,
      "outputs": []
    },
    {
      "cell_type": "code",
      "source": [
        "valid_ds=tf.keras.preprocessing.image_dataset_from_directory(\n",
        "    directory=r\"/content/drive/My Drive/450/archive/valid\",\n",
        "    image_size=(224,244),\n",
        "    labels=\"inferred\",\n",
        "    label_mode=\"categorical\",\n",
        "    color_mode=\"rgb\",\n",
        "    batch_size=8,\n",
        "    shuffle=True,\n",
        "    seed=None\n",
        ")"
      ],
      "metadata": {
        "id": "jGoTfvD8FoHi"
      },
      "execution_count": null,
      "outputs": []
    },
    {
      "cell_type": "code",
      "source": [
        "rescale = Rescaling(scale=1.0/255)\n",
        "train_ds = train_ds.map(lambda image,label:(rescale(image),label))\n",
        "valid_ds = valid_ds.map(lambda image,label:(rescale(image),label))"
      ],
      "metadata": {
        "id": "tKmXd8WeFqVE"
      },
      "execution_count": null,
      "outputs": []
    },
    {
      "cell_type": "code",
      "source": [
        "BATCH_SIZE=8"
      ],
      "metadata": {
        "id": "yWzzyhxGFtVs"
      },
      "execution_count": null,
      "outputs": []
    },
    {
      "cell_type": "code",
      "source": [
        "class VGG16(tf.keras.Model):\n",
        "  def __init__(self, classes):\n",
        "    super(MyModel, self).__init__()\n",
        "    self._conv1a = tf.keras.layers.Conv2D(kernel_size=3, filters=16, padding='same', activation='relu')\n",
        "    self._conv1b = tf.keras.layers.Conv2D(kernel_size=3, filters=30, padding='same', activation='relu')\n",
        "    self._maxpool1 = tf.keras.layers.MaxPooling2D(pool_size=2)\n",
        "    \n",
        "    self._conv2a = tf.keras.layers.Conv2D(kernel_size=3, filters=60, padding='same', activation='relu')\n",
        "    self._maxpool2 = tf.keras.layers.MaxPooling2D(pool_size=2)\n",
        "    \n",
        "    self._conv3a = tf.keras.layers.Conv2D(kernel_size=3, filters=90, padding='same', activation='relu')\n",
        "    self._maxpool3 = tf.keras.layers.MaxPooling2D(pool_size=2)\n",
        "    \n",
        "    self._conv4a = tf.keras.layers.Conv2D(kernel_size=3, filters=110, padding='same', activation='relu')\n",
        "    self._maxpool4 = tf.keras.layers.MaxPooling2D(pool_size=2)\n",
        "    \n",
        "    self._conv5a = tf.keras.layers.Conv2D(kernel_size=3, filters=130, padding='same', activation='relu')\n",
        "    self._conv5b = tf.keras.layers.Conv2D(kernel_size=3, filters=40, padding='same', activation='relu')\n",
        "    \n",
        "    self._pooling = tf.keras.layers.GlobalAveragePooling2D()\n",
        "    self._classifier = tf.keras.layers.Dense(classes, activation='softmax')\n",
        "\n",
        "  def call(self, inputs):\n",
        "    x = self._conv1a(inputs)\n",
        "    x = self._conv1b(x)\n",
        "    x = self._maxpool1(x)\n",
        "\n",
        "    x = self._conv2a(x)\n",
        "    x = self._maxpool2(x)\n",
        "\n",
        "    x = self._conv3a(x)\n",
        "    x = self._maxpool3(x)\n",
        "\n",
        "    x = self._conv4a(x)\n",
        "    x = self._maxpool4(x)\n",
        "\n",
        "    x = self._conv5a(x)\n",
        "    x = self._conv5b(x)\n",
        "\n",
        "    x = self._pooling(x)\n",
        "    x = self._classifier(x)\n",
        "    return x"
      ],
      "metadata": {
        "id": "n1YhnAjqFvtc"
      },
      "execution_count": null,
      "outputs": []
    },
    {
      "cell_type": "code",
      "source": [
        "from tensorflow.keras.callbacks import TensorBoard, EarlyStopping, LearningRateScheduler, ModelCheckpoint, CSVLogger, ReduceLROnPlateau"
      ],
      "metadata": {
        "id": "dHrwTsKwFydS"
      },
      "execution_count": null,
      "outputs": []
    },
    {
      "cell_type": "code",
      "source": [
        "model = VGG16(450)\n",
        "model.compile(optimizer='adam', loss=tf.keras.losses.CategoricalCrossentropy(), metrics=['accuracy'])"
      ],
      "metadata": {
        "id": "0SDXynm6GvzL"
      },
      "execution_count": null,
      "outputs": []
    },
    {
      "cell_type": "code",
      "source": [
        "latest = tf.train.latest_checkpoint(checkpoint_dir)"
      ],
      "metadata": {
        "id": "OC7p4k89GxKi"
      },
      "execution_count": null,
      "outputs": []
    },
    {
      "cell_type": "code",
      "source": [
        "checkpoint_path = \"/content/drive/My Drive/450/archive/training_2/cp.ckpt\"\n",
        "checkpoint_dir = os.path.dirname(checkpoint_path)\n",
        "cp_callback = tf.keras.callbacks.ModelCheckpoint(filepath=checkpoint_path,\n",
        "                                                 save_weights_only=True,\n",
        "                                                 verbose=1)\n",
        "resnet.fit(train_ds,validation_data=valid_ds, epochs=5,callbacks=[cp_callback])  "
      ],
      "metadata": {
        "id": "zAoG7wmoGxU2"
      },
      "execution_count": null,
      "outputs": []
    },
    {
      "cell_type": "code",
      "source": [],
      "metadata": {
        "id": "6bqsV6FMGxbk"
      },
      "execution_count": null,
      "outputs": []
    },
    {
      "cell_type": "code",
      "source": [],
      "metadata": {
        "id": "UB3jxxe0Gxic"
      },
      "execution_count": null,
      "outputs": []
    }
  ]
}